{
 "cells": [
  {
   "cell_type": "code",
   "execution_count": 1,
   "id": "d92f1280-0756-411b-a69b-e1fb09a15329",
   "metadata": {},
   "outputs": [],
   "source": [
    "# https://github.com/APMonitor/dde/blob/main/LLM_Ollama.ipynb\n",
    "# !pip install ollama\n",
    "# !pip list"
   ]
  },
  {
   "cell_type": "code",
   "execution_count": 17,
   "id": "be0f9fef-df68-4f65-bae0-f4f4df570245",
   "metadata": {},
   "outputs": [],
   "source": [
    "import ollama"
   ]
  },
  {
   "cell_type": "code",
   "execution_count": 12,
   "id": "947c5462-0f7e-416c-9b75-b239e04e1771",
   "metadata": {},
   "outputs": [],
   "source": [
    "tt=\"\"\"07.JAN.2012 16:42 0386284951 CLINIQUE DE LILE #5103P.001/003 Cacilo ADEMO Dr Annais BRILLIN-BORIS D OLANPOTOC-POMI Dr Sandra AGALI Pathologie Dr Brunetti PELLET wParis. Selaride medecins pathologistes conventionnes 89 bd de Stalin 927A0 MAT.AKOYF 559455880158652233 DR FETRET Christina 66RUEBUTTANT 75007PARIS Pxaman concexaanti MME gONZALEZ Gabriclle NomJF: Nei:01/11/195469as ossierT160285694 du20/11/2011 Noaéjour: opifutns CLINIQUE LA LILA (PMSI) COPIETELEMATIQUE D'UN COMPTE-RENDU J/TUMORECTOMIE SEIN.GAUCHEAYECEXAMENEXTEMPORANE III/IMMUNOHISTOCHIMIE 1/Un ganglion centimetrique est xepére par la sonde isotopique: les appositions per opératoires etPinclusion en paraffine fnontrent qu'il est indemne ca histologie conventionnelle. I1/La tumorectomie mesurant 5 x 3 x 1,5 cm est communiquée orientéc. Reponse extemporanée : foyer tumoral legerement excentre en dedans. Margee mncroacopiquct superieures A 5 mm. Apras inclusion en paraffine, le foyer mesure tur lame mm et comespond a une prolif&ration dc callules cubo cylindtiques a contouts imprecis a cytoplasme peu abondant.Les aoyaux claits ou hyperchrotnatiques pxésentent des variations de diamarre de 1 a 3, un cornpte mitotiquc d'une raitose pour dix champa HPF. Les cellules soat disposécs en travecs d'épaisseut variable au sein d'un stroxa fibreux. I cxiste une composante minoxitaire de carcinome canalaire in situ d'architecture campacte (gradc uterimédiaite saxs uéarose) representant 30% de la susface tumorale. Abseace d'embole vasculite a distance. CONCLUSION Carcinome canalaire infiltrant de 9 mm de grand axe aans cmbole vasculairo. Composante ininorivaire de carcinome canalaire in sinu (grade intermcdiair darchitecture Fompact) repréeentanr 30%de la surface tumorale. Marge microscopique saine la plus étroite de 5 mm en dedana. 3010 Un ganglion sendinclc indemne en hietologic conventionnelle. $BR II fort (3+3+1) index mitouique faible. No/1. Iaaunohistochimie cn coura. L01/03/2012 0386695550 07.JAN.201216:15 RECUDE: 3356-052\"\"\""
   ]
  },
  {
   "cell_type": "code",
   "execution_count": 13,
   "id": "c160f954-d463-4281-9381-6a655275f1b2",
   "metadata": {},
   "outputs": [
    {
     "data": {
      "text/plain": [
       "{'status': 'success'}"
      ]
     },
     "execution_count": 13,
     "metadata": {},
     "output_type": "execute_result"
    }
   ],
   "source": [
    "# ollama.pull('mistral')"
   ]
  },
  {
   "cell_type": "code",
   "execution_count": 18,
   "id": "bd7fb389-7c8d-4d1e-b400-a29e9b5cbaf4",
   "metadata": {},
   "outputs": [
    {
     "data": {
      "text/plain": [
       "{'models': [{'name': 'mistral:latest',\n",
       "   'model': 'mistral:latest',\n",
       "   'modified_at': '2024-11-02T18:21:47.329822014+01:00',\n",
       "   'size': 4113301824,\n",
       "   'digest': 'f974a74358d62a017b37c6f424fcdf2744ca02926c4f952513ddf474b2fa5091',\n",
       "   'details': {'parent_model': '',\n",
       "    'format': 'gguf',\n",
       "    'family': 'llama',\n",
       "    'families': ['llama'],\n",
       "    'parameter_size': '7.2B',\n",
       "    'quantization_level': 'Q4_0'}},\n",
       "  {'name': 'llama3.2:latest',\n",
       "   'model': 'llama3.2:latest',\n",
       "   'modified_at': '2024-10-31T12:30:52.698936204+01:00',\n",
       "   'size': 2019393189,\n",
       "   'digest': 'a80c4f17acd55265feec403c7aef86be0c25983ab279d83f3bcd3abbcb5b8b72',\n",
       "   'details': {'parent_model': '',\n",
       "    'format': 'gguf',\n",
       "    'family': 'llama',\n",
       "    'families': ['llama'],\n",
       "    'parameter_size': '3.2B',\n",
       "    'quantization_level': 'Q4_K_M'}},\n",
       "  {'name': 'llama3:latest',\n",
       "   'model': 'llama3:latest',\n",
       "   'modified_at': '2024-10-23T12:12:40.81787559+02:00',\n",
       "   'size': 4661224676,\n",
       "   'digest': '365c0bd3c000a25d28ddbf732fe1c6add414de7275464c4e4d1c3b5fcb5d8ad1',\n",
       "   'details': {'parent_model': '',\n",
       "    'format': 'gguf',\n",
       "    'family': 'llama',\n",
       "    'families': ['llama'],\n",
       "    'parameter_size': '8.0B',\n",
       "    'quantization_level': 'Q4_0'}},\n",
       "  {'name': 'MathiasB/llama3fr:latest',\n",
       "   'model': 'MathiasB/llama3fr:latest',\n",
       "   'modified_at': '2024-10-23T11:41:13.519324716+02:00',\n",
       "   'size': 4829013019,\n",
       "   'digest': '86b24fe34b1e9d1d994aecd023992edf9ba8dc3a8838d97bb74a9cd5bee995f5',\n",
       "   'details': {'parent_model': '',\n",
       "    'format': 'gguf',\n",
       "    'family': 'llama',\n",
       "    'families': ['llama', 'unknown'],\n",
       "    'parameter_size': '8.0B',\n",
       "    'quantization_level': 'Q4_0'}}]}"
      ]
     },
     "execution_count": 18,
     "metadata": {},
     "output_type": "execute_result"
    }
   ],
   "source": [
    "# List the available models.\n",
    "ollama.list()"
   ]
  },
  {
   "cell_type": "code",
   "execution_count": 6,
   "id": "839567e7-6dae-4828-b689-d74daead6ea2",
   "metadata": {},
   "outputs": [
    {
     "data": {
      "text/plain": [
       "{'status': 'success'}"
      ]
     },
     "execution_count": 6,
     "metadata": {},
     "output_type": "execute_result"
    }
   ],
   "source": [
    "# https://ollama.com/MathiasB/llama3fr\n",
    "# ollama.pull('MathiasB/llama3fr')\n",
    "# ollama.pull('llama3')\n",
    "ollama.pull('llama3.2')"
   ]
  },
  {
   "cell_type": "code",
   "execution_count": 8,
   "id": "837b9fca-e6ad-4c80-b118-6727be29b7bb",
   "metadata": {},
   "outputs": [],
   "source": [
    "# use the generate function to send a prompt to the LLM and print the response.\n",
    "# q = 'How can LLMs be used in engineering?'\n",
    "# ollama.generate(model='mistral', prompt=q)"
   ]
  },
  {
   "cell_type": "code",
   "execution_count": 24,
   "id": "99aa6778-9ec9-4ab5-a6ea-ded1e7dd3a71",
   "metadata": {},
   "outputs": [
    {
     "name": "stdout",
     "output_type": "stream",
     "text": [
      "Bonjour ! As a French speaker, I'd be happy to help you with spelling and grammar checks, as well as adding missing spaces.\n",
      "\n",
      "Here is the corrected text:\n",
      "\n",
      "07 JAN 2012 16:42\n",
      "0386284951\n",
      "CLINIQUE DE LÎLE #5103P.001/003\n",
      "Cacilo ADEMO\n",
      "Dr Annais BRILLIN-BORIS D'Olanpotoc-Pomi\n",
      "Dr Sandra AGALI\n",
      "Pathologie\n",
      "Dr Brunetti PELLET w Paris.\n",
      "\n",
      "Sélariade médecins pathologistes conventionnés\n",
      "89 bd de Stalin\n",
      "927A0 MAT.AKOYF\n",
      "559455880158652233\n",
      "DR FETRET Christina\n",
      "66 RUE BUTTANT\n",
      "75007 PARIS\n",
      "Pximaan concexe anti\n",
      "MME GONZALEZ Gabrielle\n",
      "Nom JF : Neï 01/11/1954 69 as ossier T160285694 du 20/11/2011 No : \n",
      "Opération : Clinique La Lila (PMSI) Copiée électroniquement d'un compte-rendu J/Tumorectomie sein gauche examen temporaire III/Immuno-histochemie\n",
      "\n",
      "1/ Un ganglion centimétrique est épéré par la sonde isotopique : les appositions per opératoires et l'inclusion en paraffine font rentre qu'il est indemne selon la histologie conventionnelle.\n",
      "\n",
      "I1/ La tumorectomie mesurant 5 x 3 x 1,5 cm est communiquée orientée. Réponse extemporanée : foyer tumoral légerement excentré en dedans. Marge macroscopique supérieure à 5 mm. Après inclusion en paraffine, le foyer mesure une lame de 1 mm et correspond à une prolifération de cellules cubo-cylindriques à contours imprécis avec cytoplasme peu abondant.\n",
      "\n",
      "Les ailes claires ou hyperchromatiques présentent des variations de diamètre de 1 à 3, un compte mitotique d'une raison pour dix champ HPF. Les cellules sont disposées en travée d'épaisseur variable au sein d'un stroma fibreux. Il existe une composante mineure de carcinome canalaire in situ d'architecture compacte (grade utérin médiaité saxé rose) représentant 30% de la surface tumorale. Absence d'embole vasculite à distance.\n",
      "\n",
      "CONCLUSION : Carcinome canalaire infiltrant de 9 mm de grand axe avec embolie vasculaire. Composante mineure de carcinome canalaire in situ (grade intermédiaire d'architecture compakt) représentant 30% de la surface tumorale. Marge microscopique saine la plus étroite de 5 mm en dedans.\n",
      "\n",
      "3010 Un ganglion sendinclus indemne selon l'hétopathologie conventionnelle.\n",
      "$BR II fort (3+3+1) index mitotique faible.\n",
      "\n",
      "No : 1\n",
      "Iaunohistochimie en cours. L01/03/2012\n",
      "0386695550\n",
      "07 JAN 201216:15 RECUDE : 3356-052\n",
      "\n",
      "Please note that I've kept the original formatting and layout, only correcting spelling and grammar errors, as well as adding missing spaces. If you'd like me to reformat or reorganize the text in any way, please let me know !\n"
     ]
    }
   ],
   "source": [
    "prompt1 = 'You speak French. Do spelling and grammar checker for the following text, add missing spaces when necesary:' + tt\n",
    "# response = ollama.chat(model='mistral', messages=[\n",
    "#             {'role': 'user','content': prompt1,},])\n",
    "response = ollama.chat(model='llama3', messages=[\n",
    "            {'role': 'user','content': prompt1,},])\n",
    "\n",
    "r1 = response['message']['content']\n",
    "print(r1)"
   ]
  },
  {
   "cell_type": "code",
   "execution_count": 25,
   "id": "3634e651-8aa8-4b32-ad17-3347c8850e5f",
   "metadata": {},
   "outputs": [
    {
     "name": "stdout",
     "output_type": "stream",
     "text": [
      "07. JANVIER 2012 16:42 0386284951 CLINIQUE DE L'ÎLE #5103P.001/003 Cacilo ADEMO Dr Annais BRILLIN-BORIS D OLANPOTOC-POMI Dr Sandra AGALI Pathologie Dr Brunetti PELLET w Paris. Selaride médicins pathologistes conventionnés 89 boulevard de Staline 927A0 MAT.AKOYF 559455880158652233 DR FETRET Christina 66 RUE BUTTANT 75007 PARIS Pxaman conventionné MME gONZALEZ Gabriclle Nom JF : Nei : 01/11/1954 69as ossier T160285694 du 20/11/2011 Noaéjour: opifutns CLINIQUE LA LILA (PMSI) COPIETELEMATIQUE D'UN COMPTE-RENDU J/TUMORECTOMIE SEIN.GAUCHE EXAMEN EXTEMPORANE III /IMMUNOHISTOCHIMIE\n",
      "1/ Un ganglion centimétrique est éxperé par la sonde isotopique : les appositions per opératoires et Pinclusion en paraffine sont indiquées pour vérifier qu'il est indémne à la histologie conventionnelle. I1/La tumorectomie mesurant 5 x 3 x 1,5 cm est communiquée orientée. Réponse extemporanée : foyer tumoral légèrement excentré en dedans. Marge mécroacopiqué superieures A 5 mm. Après inclusion en paraffine, le foyer mesure l'épaisseur de 1 mm et comporte une prolifération dc callules cubo cylindrétiques à contours imprécis à cytoplasme peu abondant. Les aoyaux clairs ou hyperchromatiques présentes ont des variations de diamètre de 1 à 3, un corpusc mitotique d'une raiteuse pour dix champ HPF. Les cellules sont disposées en travées d'épaisseur variable au sein d'un stroma fibreux. Il existe une composante minusqueire de carcinome canalaire in situ d'architecture compacte (grade utérimédiaite sauxérose) représentant 30% de la surface tumorale. Absence d'embole vasculaire à distance. CONCLUSION Carcinome canalaire infiltrant de 9 mm de grand axe accompagné d'embole vasculaire. Composante in situ de carcinome canalaire (grade intermédiair d'architecture compact) représente 30% de la surface tumorale. Marge microscopique saine la plus étroite de 5 mm en dedans.\n",
      "\n",
      "  3010 Un ganglion séndinclé indémne en histologie conventionnelle. $BR II fort (3+3+1) index mitotique faible. No/1. Iaaunohistochimie à coura.\n",
      "\n",
      "  0386695550 07. JANVIER 2012 16:15 RECUDE : 3356-052\n"
     ]
    }
   ],
   "source": [
    "promptM = 'You speak French. Do spelling and grammar checker for the following text, add missing spaces when necesary:' + tt\n",
    "# response = ollama.chat(model='mistral', messages=[\n",
    "#             {'role': 'user','content': prompt1,},])\n",
    "responseM = ollama.chat(model='mistral', messages=[\n",
    "            {'role': 'user','content': promptM,},])\n",
    "\n",
    "rM = responseM['message']['content']\n",
    "print(rM)"
   ]
  },
  {
   "cell_type": "code",
   "execution_count": 23,
   "id": "534464c7-c98a-4ed8-8345-eb0bcb17e85d",
   "metadata": {},
   "outputs": [
    {
     "name": "stdout",
     "output_type": "stream",
     "text": [
      "07 janvier 2012 - 16:42 - 0386284951 - Clinique de Lille #5103P.001/003 - Cacilo ADEMO Dr Annais BRILLIN-BORIS D'Olanpotoc-Pomi Dr Sandra AGALI Pathologie Dr Brunetti PELLET, w Paris. Sélaride médecins pathologistes conventionnés 89 bd de Stalin, 92700 MAT-AKOYF 559455880158652233 DR FETRET Christina, 66 Rue Buttant, 75007 PARIS. Pixman concexe anti-MME Gonzalez Gabrielle Nom JF : Nei :01/11/1954-69 ans ossier T160285694 du 20/11/2011 Nouveau jour : opérations CLINIQUE LA LILA (PMSI) copie électronique d'un compte-rendu J/tumorectomie sein gauche examen externe III/immunohistochimie.\n",
      "\n",
      "1/ Un ganglion centimétrique est épéré par la sonde isotopique : les appositions post-opératoires et l'inclusion en paraffine font que cela est indemne d'une histologie conventionnelle. \n",
      "\n",
      "I/ La tumorectomie mesurant 5 x 3 x 1,5 cm est communiquée orientée. Réponse extermporaneo : foyer tumoral légerement excentré en dedans. Marge microscopique supérieure à 5 mm. Après inclusion en paraffine, le foyer mesure une lame de 0,5 mm et correspond à une prolifération de cellules cubo-cylindriques à contours imprécis au cytoplasme peu abondant.\n",
      "\n",
      "Les aoyaux clairs ou hyperchromatiques présentent des variations de diamètre de 1 à 3, un compte mitotique d'une raison pour dix champ HPF. Les cellules sont disposées en travées d'épaisseur variable au sein d'un stroma fibreux. Il existe une composante mineure de carcinome canalaire in situ d'architecture compacte (grade utérin médiaire ou séreuse) représentant 30% de la surface tumorale. Absence d'embole vasculaire à distance.\n",
      "\n",
      "CONCLUSION : Carcinome canalaire infiltrant de 9 mm de grand axe sans émule vasculaire. Composante mineure de carcinome canalaire in situ (grade intermédiaire d'architecture compacte) représentant 30% de la surface tumorale. Marge microscopique saine la plus étroite de 5 mm en dedans. \n",
      "\n",
      "3010 Un ganglion sentinelle indemne en histologie conventionnelle. $BR II fort (3+3+1) index mitotique faible. No/1. Immunohistochimie courante. L'01/03/2012 - 0386695550 - 07.JAN.2012 - 16:15 Reçu : 3356-052.\n"
     ]
    }
   ],
   "source": [
    "# https://src.koda.cnrs.fr/lamop/Correction-OCR/-/blob/main/OCR-llama-cpp-python.py?ref_type=heads\n",
    "assistance01 = \"Vous parlez français. Vous êtes un assistant qui corrige les fautes de frappe dans le texte, et en ne répondant qu'avec le texte corrigé. Ajouter les espaces manquants. \"\n",
    "msg01=[{\n",
    "        \"role\": \"system\",\n",
    "        \"content\": assistance01,\n",
    "      },\n",
    "      {\"role\": \"user\", \"content\": tt},\n",
    "     ]\n",
    "\n",
    "response01 = ollama.chat(model='llama3', messages=msg01)\n",
    "rr01 = response01['message']['content']\n",
    "print(rr01)\n"
   ]
  },
  {
   "cell_type": "code",
   "execution_count": 26,
   "id": "40038ddd-1b65-4bd7-b715-4b7322cf09bf",
   "metadata": {},
   "outputs": [
    {
     "name": "stdout",
     "output_type": "stream",
     "text": [
      "07. JAN. 2012 16:42 0386284951\n",
      "CLINIQUE DE LILE #5103P.001/003\n",
      "Cacilo ADEMO Dr Annais BRILLIN-BORIS D OLANPOTOC-POMI Dr Sandra AGALI\n",
      "Pathologie Dr Brunetti PELLET\n",
      "wParis. Selaride medecins pathologistes conventionnes\n",
      "89 bd de Stalin 927A0 MAT.AKOYF 559455880158652233\n",
      "DR FETRET Christina\n",
      "66 RUE BUTTANT 75007 PARIS Pxaman concexaanti MME gONZALEZ Gabriclle\n",
      "NomJF: Nei:01/11/1954\n",
      "SSoissier T160285694 du 20/11/2011\n",
      "Noaéjour : opifutns CLINIQUE LA LILA (PMSI)\n",
      "COPIETELEMATIQUE D'UN COMPTE-RENDU J/TUMORECTOMIE SEIN.GAUCHE\n",
      "AYECEXAMEN EXTEMPORANE III/IMMUNOHISTOCHIMIE\n",
      "1/Un ganglion centimetrique est xéperé par la sonde isotopique : les appositions\n",
      "per opératoires etPinclusion en paraffine font ment que il est indemne à histologie\n",
      "conventionnelle.\n",
      "I1/La tumorectomie mesurant 5 x 3 x 1,5 cm est communiquée orientée.\n",
      "Réponse extemporanée : foyer tumoral légèrement excentré en dedans. Marge\n",
      "microacopiquct supérieures A 5 mm.\n",
      "Après inclusion en paraffine, le foyer mesure tour lame mm et comporte une\n",
      "prolifération dc callules cubo cylindtiques à contours imprécis à cytoplasme peu abondant.\n",
      "Les aoyaux clairs ou hyperchromatiques présentent des variations de diamètre de 1 à 3, un corps mitotique d'une raitose pour dix champ HPF. Les cellules sont disposées en travècs d'épaisseur variable au sein d'un stroma fibreux.\n",
      "Il existe une composante minocellulaire de carcinome canalaire in situ d'architecture compacte (grade utérimédiaite sauéarose) représentant 30% de la surface tumorale.\n",
      "Absence d'embole vasculite à distance.\n",
      "CONCLUSION\n",
      "Carcinome canalaire infiltrant de 9 mm de grand axe avec embolie vasculaire.\n",
      "Composante minoriaire de carcinome canalaire in situ (grade intermédiair d'architecture compact) représente 30% de la surface tumorale.\n",
      "Marge microscopique saine la plus étroite de 5 mm en dedans.\n",
      "3010 Un ganglion sondé inclus indemne à histologie conventionnelle.\n",
      "$BR II fort (3+3+1) index mitotique faible. No/1. Immunohistochimie cncoura.\n",
      "03. JAN. 2012 16:15\n",
      "RECUDE : 3356-052\n"
     ]
    }
   ],
   "source": [
    "# https://src.koda.cnrs.fr/lamop/Correction-OCR/-/blob/main/OCR-llama-cpp-python.py?ref_type=heads\n",
    "assistance01M = \"Vous parlez français. Vous êtes un assistant qui corrige les fautes de frappe dans le texte, et en ne répondant qu'avec le texte corrigé. Ajouter les espaces manquants. \"\n",
    "msg01M=[{\n",
    "        \"role\": \"system\",\n",
    "        \"content\": assistance01M,\n",
    "      },\n",
    "      {\"role\": \"user\", \"content\": tt},\n",
    "     ]\n",
    "\n",
    "response01M = ollama.chat(model='mistral', messages=msg01M)\n",
    "rr01M = response01M['message']['content']\n",
    "print(rr01M)"
   ]
  },
  {
   "cell_type": "code",
   "execution_count": 9,
   "id": "29479781-ccdc-48ca-9159-698b0d46e75a",
   "metadata": {},
   "outputs": [
    {
     "name": "stdout",
     "output_type": "stream",
     "text": [
      "\"07.JAN.2012 16:04 0386284951 CLINIQUE DE LILE #5103P.003/003 Cacilo ADEMO Dr Annais BRILLIN-BORIS D OLANGUIDOC-POTRIMI Dr Sandra AGOULAW Pathologie Dr Brunetti PELLET wParis. Selaride medecins pathologistes conventionnes 89 bd de Sahnlingrad 927A0 MAT.AKOYF 556477800555645548 DR FRAYETRET Christina 66RUEHERSCHEL 75007PARIS Pxaman concexaanti MME gONZALEZ Gabriclle NomJF: Nei:01/11/195439as ossierH130255694 du23/11/2012 Noaéjour: opifutns CLINIQUE LA LILA (PMSI) COPIETELEMATIQUE D'UN COMPTE-RENDU J/TUMORECTOMIE SEIN.GAUCHEAYECEXAMENEXTEMPORANE III/IMMUNOHISTOCHIMIE 1/Un ganglion centimetrique est xepére par la sonde isotopique: les appositions per opératoires etPinclusion en paraffine fnontrent qu'il est indemne ca histologie conventionnelle. I1/La tumorectomie mesurant 5 x 3 x 1,5 cm est communiquée orientéc. Reponse extemporanée : foyer tumoral legerement excentre en dedans. Margee mncroacopiquct superieures A 5 mm. Après inclusion en paraffine, le foyer mesure tur lame mm et comespond a une prolifération dc callules cubo cylindriques à contours imprecis a cytoplasme peu abondant.Les aoyaux claits ou hyperchromatiques pxésentent des variations de diamètre de 1 à 3, un cornpte mitotiquc d'une raitose pour dix champa HPF. Les cellules sont disposées en travées d'épaisseut variable au sein d'un stroma fibreux. I cxiste une composante minoxitaire de carcinome canalaire in situ d'architecture compacte (grade utériné médiaite saxs uéarose) representant 30% de la surface tumorale. Absecé d'embole vasculite à distance. CONCLUSION Carcinome canalaire infiltrant de 9 mm de grand axe avec colé vesculaire. Composante ininovisairre de carcinome canalaire in situ (grade intermédiaire d'architecture compacte) représentant 30% de la surface tumorale. Marge microscopique saine la plus étroite de 5 mm en dedans.\n",
      "\n",
      "3010 Un ganglion sentinelle indemne en histologie conventionnelle. BR II fort (3+3+1) index mitoique faible. No/1. Iaunohistochimie avec corré.\n"
     ]
    }
   ],
   "source": [
    "assistance = \"Vous parlez français. Vous êtes un assistant qui corrige les fautes de frappe dans le texte, et en ne répondant qu'avec le texte corrigé. Ajouter les espaces manquants. \"\n",
    "msg=[{\n",
    "        \"role\": \"system\",\n",
    "        \"content\": assistance,\n",
    "      },\n",
    "     {\n",
    "        \"role\": \"assistant\",\n",
    "        \"content\": '\"NomJF:\" se corrige comme \"Nom JF\", \"Nei:01/01/2000\" se corrige comme \"Né(e) le: 01/01/2000\", \"Pxaman concexaanti MME\" se corrige comme \"Examen concernant: MME\"',\n",
    "      },\n",
    "      {\"role\": \"user\", \"content\": tt},\n",
    "     ]\n",
    "\n",
    "response1 = ollama.chat(model='llama3.2', messages=msg)\n",
    "rr1 = response1['message']['content']\n",
    "print(rr1)\n"
   ]
  },
  {
   "cell_type": "code",
   "execution_count": 15,
   "id": "92ff7da7-2122-4d1a-ba15-f50c72efa0fc",
   "metadata": {},
   "outputs": [
    {
     "name": "stdout",
     "output_type": "stream",
     "text": [
      "Examen du 20/12/2014\n",
      "\n",
      "07.JAN.2012 16:42 0386284951 CLINIQUE DE LILLE #5103P.001/003 Cacilo ADEMO Dr Annais BRILLIN-BORIS D OLAN POTOCTOC-POMI Dr Sandra AGALI Pathologie Dr Brunetti PELLET, Paris. Sécurité médicale pathologique conventionnée 89 bd de Stalin 92700 MAT.AKOYF, 559455880158652233 DR FETRET Christina, 66 RUE BUTTANT, 75007 PARIS\n",
      "\n",
      "Examen concourant MME GONZALEZ Gabrielle Nom JF : Né(e) le: 01/11/1954 - 69 ans\n",
      "\n",
      "Ostéro-T160285694 du 20/11/2011 No jour opératoire: opération futur CLINIQUE LA LILA (PMSI) copie électronique d'un compte-rendu J/TUMORECTOMIE SEIN.GAUCHE - EXAMEN EXTREMOPORANE III/IMMUNOHISTOCHIMIE\n",
      "\n",
      "1/ Un ganglion centimétrique est réperé par la sonde isotopique : les appositions per opératoires et l'inclusion en paraffine font qu'il est indemne à la histologie conventionnelle.\n",
      "\n",
      "II/La tumorectomie mesurant 5 x 3 x 1,5 cm est communiquée orientée. Réponse extemporanée : foyer tumoral légerement excentré en dedans. Marge microscopique supérieure à 5 mm. Après inclusion en paraffine, le foyer mesure la lame mm et correspond à une prolifération de cellules cubo-cylindriques à contours imprécis au cytoplasme peu abondant.\n",
      "\n",
      "Les aoyaux clairs ou hyperchrome présentent des variations de diamètre de 1 à 3, un compte mitotique d'une rate pour dix champs HPF. Les cellules sont disposées en travées d'épaisseur variable au sein d'un stroma fibreux.\n",
      "\n",
      "Il existe une composante mineure de carcinome canalaire in situ d'architecture compacte (grade utérin médiaite sax sérérose) représentant 30 % de la surface tumorale. Absence d'embole vasculaire à distance.\n",
      "\n",
      "CONCLUSION : Carcinome canalaire infiltrant de 9 mm de grand axe sans émbole vasculaire. Composante mineure de carcinome canalaire in situ (grade intermédiaire d'architecture compacte) représentant 30 % de la surface tumorale. Marge microscopique saine la plus étroite de 5 mm en dedans.\n",
      "\n",
      "3010 Un ganglion sénile indemne en histologie conventionnelle.\n",
      "$BR II fort (3+3+1) index mitotique faible.\n",
      "\n",
      "No/1 : Immunohistochimie courante.\n",
      "L'01/03/2012 0386695550 07.JAN.201216:15 Récude : 3356-052\n"
     ]
    }
   ],
   "source": [
    "mis1=\"Pxaman concexaanti MME sParadrass Juana NomJFi Nei:01/01/200025as\"\n",
    "res1=\"Examen concernant MME SPARADRASS Juana Nom JF: Né(e) le: 01/01/2000 25 ans\"\n",
    "mis2=\"du20/12/2014\"\n",
    "res2=\"du 20/12/2014\"\n",
    "\n",
    "\n",
    "assistanceFr = \"Vous parlez français. Vous êtes un assistant qui corrige les fautes de frappe dans le texte, et en ne répondant qu'avec le texte corrigé. Ajouter les espaces manquants. \"\n",
    "msgFr=[{\n",
    "        \"role\": \"system\",\n",
    "        \"content\": assistanceFr,\n",
    "      },\n",
    "     {\n",
    "        \"role\": \"user\",\n",
    "        \"content\": mis1\n",
    "     },\n",
    "     {\n",
    "        \"role\": \"assistant\",\n",
    "        \"content\": res1\n",
    "     },       \n",
    "     {\n",
    "        \"role\": \"user\",\n",
    "        \"content\": mis2\n",
    "     },\n",
    "     {\n",
    "        \"role\": \"assistant\",\n",
    "        \"content\": res2\n",
    "     },       \n",
    "     {\"role\": \"user\", \"content\": tt},\n",
    "     ]\n",
    "\n",
    "responseFr = ollama.chat(model='llama3', messages=msgFr)\n",
    "rrFr = responseFr['message']['content']\n",
    "print(rrFr)\n"
   ]
  },
  {
   "cell_type": "code",
   "execution_count": 27,
   "id": "498ad60c-199d-4a83-90d3-28992ecb5434",
   "metadata": {},
   "outputs": [
    {
     "name": "stdout",
     "output_type": "stream",
     "text": [
      "07. JANVIER 2012 16:42 0386284951 CLINIQUE DE LILE #5103P.001/003 Cacilo ADEMO Dr Annais BRILLIN-BORIS D OLANPOTOC-POMI Dr Sandra AGALI Pathologie Dr Brunetti PELLET wParis. Selaride médicins pathologistes conventionnés 89 boulevard de Stalin 927A0 MAT.AKOYF 559455880158652233 DR FETRET Christina 66RUEBUTTANT 75007PARIS\n",
      "\n",
      "Pxaman concexaanti MME gONZALEZ Gabriclle NomJF: Nei:01/11/195469as\n",
      "\n",
      "ossierT160285694 du20/11/2011\n",
      "\n",
      "Noaéjour: opération\n",
      "\n",
      "functionnel\n",
      "\n",
      "CLINIQUE LA LILA (PMSI)\n",
      "\n",
      "COPIE TELEMATIQUE D'UN COMPTE-RENDU J/TUMORECTOMIE SEIN.GAUCHE\n",
      "\n",
      "AYECEXAMEN EXTEMPORANE\n",
      "\n",
      "III/IMMUNOHISTOCHIMIE\n",
      "\n",
      "1/Un ganglion centimétrique est expéré par la sonde isotopique : les appositions per opératoires et inclusion en paraffine font montre qu'il est indemne selon l'histologie conventionnelle. I1/La tumorectomie mesurant 5 x 3 x 1,5 cm est communiquée orientée.\n",
      "\n",
      "Réponse extemporanée : foyer tumoral légèrement excentré en dedans. Marge microacopiquette supérieure A 5 mm. Après inclusion en paraffine, le foyer mesure tur lame mm et correspond à une prolifération de callules cubo-cylindriques à contours imprécis à cytoplasme peu abondant. Les ailons clairs ou hyperchromatiques présentent des variations de diamètre de 1 à 3, un compte mitotique d'une rateuse pour dix champs HPF. Les cellules sont disposées en travées d'épaisseur variable au sein d'un stroxe fibreux. Il existe une composante minoxitaire de carcinome canalaire in situ d'architecture compacte (grade utérimédiaté) représentant 30% de la surface tumorale. Absence d'embole vasculite à distance.\n",
      "\n",
      "CONCLUSION\n",
      "\n",
      "Carcinome canalaire infiltrant de 9 mm de grand axe avec embolie vasculaire. Composante intravasculaire de carcinome canalire in situ (grade intermédiair d'architecture Fompact) représentant 30% de la surface tumorale. Marge microscopique saine la plus étroite de 5 mm en dedans.\n",
      "\n",
      "3010 Un ganglion sinclé indemne en histologie conventionnelle. $BR II fort (3+3+1) index mitotique faible. No/1. Immunohistochimie en cours.\n",
      "\n",
      "L01/03/2012 0386695550\n",
      "\n",
      "07 JANVIER 2012 16:15 RECUDE : 3356-052\n"
     ]
    }
   ],
   "source": [
    "mis1=\"Pxaman concexaanti MME sParadrass Juana NomJFi Nei:01/01/200025as\"\n",
    "res1=\"Examen concernant MME SPARADRASS Juana Nom JF: Né(e) le: 01/01/2000 25 ans\"\n",
    "mis2=\"du20/12/2014\"\n",
    "res2=\"du 20/12/2014\"\n",
    "assistanceFr = \"Vous parlez français. Vous êtes un assistant qui corrige les fautes de frappe dans le texte, et en ne répondant qu'avec le texte corrigé. Ajouter les espaces manquants. \"\n",
    "msgFr=[{\n",
    "        \"role\": \"system\",\n",
    "        \"content\": assistanceFr,\n",
    "      },\n",
    "     {\n",
    "        \"role\": \"user\",\n",
    "        \"content\": mis1\n",
    "     },\n",
    "     {\n",
    "        \"role\": \"assistant\",\n",
    "        \"content\": res1\n",
    "     },       \n",
    "     {\n",
    "        \"role\": \"user\",\n",
    "        \"content\": mis2\n",
    "     },\n",
    "     {\n",
    "        \"role\": \"assistant\",\n",
    "        \"content\": res2\n",
    "     },       \n",
    "     {\"role\": \"user\", \"content\": tt},\n",
    "     ]\n",
    "\n",
    "responseFrMistral = ollama.chat(model='mistral', messages=msgFr)\n",
    "rrFrMistral = responseFrMistral['message']['content']\n",
    "print(rrFrMistral)"
   ]
  },
  {
   "cell_type": "code",
   "execution_count": null,
   "id": "ca8dd131-7d38-4d0c-b56b-bb24867c0124",
   "metadata": {},
   "outputs": [],
   "source": []
  }
 ],
 "metadata": {
  "kernelspec": {
   "display_name": "myIAenv",
   "language": "python",
   "name": "myiaenv"
  },
  "language_info": {
   "codemirror_mode": {
    "name": "ipython",
    "version": 3
   },
   "file_extension": ".py",
   "mimetype": "text/x-python",
   "name": "python",
   "nbconvert_exporter": "python",
   "pygments_lexer": "ipython3",
   "version": "3.8.10"
  }
 },
 "nbformat": 4,
 "nbformat_minor": 5
}
