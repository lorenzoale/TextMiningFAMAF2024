{
 "cells": [
  {
   "cell_type": "code",
   "execution_count": null,
   "id": "cbd178c6-3b39-49a9-817d-38f9601fd36a",
   "metadata": {},
   "outputs": [],
   "source": [
    "# !pip3 install \"presidio_analyzer[transformers]\""
   ]
  },
  {
   "cell_type": "code",
   "execution_count": 1,
   "id": "51803d19-a254-4d29-afce-4a9399224d86",
   "metadata": {},
   "outputs": [
    {
     "name": "stderr",
     "output_type": "stream",
     "text": [
      "2024-11-02 18:15:04.172335: I tensorflow/core/util/port.cc:110] oneDNN custom operations are on. You may see slightly different numerical results due to floating-point round-off errors from different computation orders. To turn them off, set the environment variable `TF_ENABLE_ONEDNN_OPTS=0`.\n",
      "2024-11-02 18:15:04.173618: I tensorflow/tsl/cuda/cudart_stub.cc:28] Could not find cuda drivers on your machine, GPU will not be used.\n",
      "2024-11-02 18:15:04.201630: I tensorflow/core/platform/cpu_feature_guard.cc:182] This TensorFlow binary is optimized to use available CPU instructions in performance-critical operations.\n",
      "To enable the following instructions: AVX2 AVX512F AVX512_VNNI FMA, in other operations, rebuild TensorFlow with the appropriate compiler flags.\n",
      "2024-11-02 18:15:04.707013: W tensorflow/compiler/tf2tensorrt/utils/py_utils.cc:38] TF-TRT Warning: Could not find TensorRT\n"
     ]
    }
   ],
   "source": [
    "# https://microsoft.github.io/presidio/analyzer/nlp_engines/transformers/\n",
    "import transformers\n",
    "from huggingface_hub import snapshot_download\n",
    "from transformers import AutoTokenizer, AutoModelForTokenClassification, AutoModel\n",
    "from presidio_analyzer import AnalyzerEngine, RecognizerRegistry\n",
    "from presidio_analyzer.nlp_engine import NlpEngineProvider\n",
    "from presidio_anonymizer import AnonymizerEngine\n",
    "from presidio_anonymizer.entities import OperatorConfig\n",
    "from faker import Faker\n",
    "import pandas as pd\n",
    "import json\n",
    "import re\n",
    "import spacy\n"
   ]
  },
  {
   "cell_type": "code",
   "execution_count": 2,
   "id": "540e12e1-2115-431b-8688-f86b40e0c7d5",
   "metadata": {},
   "outputs": [
    {
     "data": {
      "application/vnd.jupyter.widget-view+json": {
       "model_id": "2424f93cb07f40afa0e6884e9acf4ca4",
       "version_major": 2,
       "version_minor": 0
      },
      "text/plain": [
       "Fetching 10 files:   0%|          | 0/10 [00:00<?, ?it/s]"
      ]
     },
     "metadata": {},
     "output_type": "display_data"
    },
    {
     "name": "stderr",
     "output_type": "stream",
     "text": [
      "/home/alejandra/.local/lib/python3.8/site-packages/transformers/tokenization_utils_base.py:1617: FutureWarning: `clean_up_tokenization_spaces` was not set. It will be set to `True` by default. This behavior will be deprecated in transformers v4.45, and will be then set to `False` by default. For more details check this issue: https://github.com/huggingface/transformers/issues/31884\n",
      "  warnings.warn(\n"
     ]
    },
    {
     "data": {
      "text/plain": [
       "CamembertForTokenClassification(\n",
       "  (roberta): CamembertModel(\n",
       "    (embeddings): CamembertEmbeddings(\n",
       "      (word_embeddings): Embedding(32005, 768, padding_idx=1)\n",
       "      (position_embeddings): Embedding(514, 768, padding_idx=1)\n",
       "      (token_type_embeddings): Embedding(1, 768)\n",
       "      (LayerNorm): LayerNorm((768,), eps=1e-05, elementwise_affine=True)\n",
       "      (dropout): Dropout(p=0.1, inplace=False)\n",
       "    )\n",
       "    (encoder): CamembertEncoder(\n",
       "      (layer): ModuleList(\n",
       "        (0-11): 12 x CamembertLayer(\n",
       "          (attention): CamembertAttention(\n",
       "            (self): CamembertSdpaSelfAttention(\n",
       "              (query): Linear(in_features=768, out_features=768, bias=True)\n",
       "              (key): Linear(in_features=768, out_features=768, bias=True)\n",
       "              (value): Linear(in_features=768, out_features=768, bias=True)\n",
       "              (dropout): Dropout(p=0.1, inplace=False)\n",
       "            )\n",
       "            (output): CamembertSelfOutput(\n",
       "              (dense): Linear(in_features=768, out_features=768, bias=True)\n",
       "              (LayerNorm): LayerNorm((768,), eps=1e-05, elementwise_affine=True)\n",
       "              (dropout): Dropout(p=0.1, inplace=False)\n",
       "            )\n",
       "          )\n",
       "          (intermediate): CamembertIntermediate(\n",
       "            (dense): Linear(in_features=768, out_features=3072, bias=True)\n",
       "            (intermediate_act_fn): GELUActivation()\n",
       "          )\n",
       "          (output): CamembertOutput(\n",
       "            (dense): Linear(in_features=3072, out_features=768, bias=True)\n",
       "            (LayerNorm): LayerNorm((768,), eps=1e-05, elementwise_affine=True)\n",
       "            (dropout): Dropout(p=0.1, inplace=False)\n",
       "          )\n",
       "        )\n",
       "      )\n",
       "    )\n",
       "  )\n",
       "  (dropout): Dropout(p=0.1, inplace=False)\n",
       "  (classifier): Linear(in_features=768, out_features=5, bias=True)\n",
       ")"
      ]
     },
     "execution_count": 2,
     "metadata": {},
     "output_type": "execute_result"
    }
   ],
   "source": [
    "# Define the model repo\n",
    "# download a pre trained model\n",
    "transformers_model = \"Jean-Baptiste/camembert-ner\"  #\"obi/deid_roberta_i2b2\" #<PATH_TO_MODEL>\n",
    "# transformers_model = \"flair/ner-french\"  #\"obi/deid_roberta_i2b2\" #<PATH_TO_MODEL>\n",
    "\n",
    "snapshot_download(repo_id=transformers_model)\n",
    "# Download pytorch model\n",
    "# model = AutoModel.from_pretrained(transformers_model)\n",
    "\n",
    "# Instantiate to make sure it's downloaded during installation and not runtime\n",
    "AutoTokenizer.from_pretrained(transformers_model)\n",
    "AutoModelForTokenClassification.from_pretrained(transformers_model)\n",
    "\n",
    "\n"
   ]
  },
  {
   "cell_type": "code",
   "execution_count": null,
   "id": "657e9776-f6d5-4677-8a76-f66903e02843",
   "metadata": {},
   "outputs": [],
   "source": [
    "#download a spaCy pipeline/model:\n",
    "# !python -m spacy download en_core_web_sm\n",
    "# !python -m spacy download fr_core_news_lg"
   ]
  },
  {
   "cell_type": "code",
   "execution_count": 16,
   "id": "b4fc9bd2-790d-4dd7-8466-096ecdbc1e79",
   "metadata": {},
   "outputs": [],
   "source": [
    "def remove_extra_spaces(txt):\n",
    "    # remove extra spaces\n",
    "    txt = \" \".join(txt.split())\n",
    "    txt = txt.replace(\" ,\", \",\").replace(\" .\", \".\")\n",
    "    # txt = \" \".join(txt.split())\n",
    "    # remove extra simbols\n",
    "    txt = re.sub(r\"([.,])\\1+\", r\"\\1\", txt)\n",
    "    return txt\n",
    "    \n",
    "# text_to_anonymize=df_all_docPaddel[\"contents\"][7]\n",
    "text_to_anonymize=\"\"\"07.JAN.2012 16:42 0386284951 CLINIQUE CLAUDE BERNARD #5103P.001/003 Cacilo ADEMO Dr Annais BRILLIN-BORIS D OLANPOTOC-POMI Dr Sandra AGALI Pathologie Dr Brunetti PELLET wParis. Selaride medecins pathologistes conventionnes 89 bd de Stalin 927A0 MAT.AKOYF 559455880158652233 DR FETRET Christina 66RUEBUTTANT 75007PARIS Pxaman concexaanti MME gONZALEZ Gabriclle NomJF: Nei:01/11/195469as ossierT160285694 du20/11/2011 Noaéjour: opifutns CLINIQUE CLAUDE BERNARD (PMSI) COPIETELEMATIQUE D'UN COMPTE-RENDU J/TUMORECTOMIE SEIN.GAUCHEAYECEXAMENEXTEMPORANE III/IMMUNOHISTOCHIMIE 1/Un ganglion centimetrique est xepére par la sonde isotopique: les appositions per opératoires etPinclusion en paraffine fnontrent qu'il est indemne ca histologie conventionnelle. I1/La tumorectomie mesurant 5 x 3 x 1,5 cm est communiquée orientéc. Reponse extemporanée : foyer tumoral legerement excentre en dedans. Margee mncroacopiquct superieures A 5 mm. Apras inclusion en paraffine, le foyer mesure tur lame mm et comespond a une prolif&ration dc callules cubo cylindtiques a contouts imprecis a cytoplasme peu abondant.Les aoyaux claits ou hyperchrotnatiques pxésentent des variations de diamarre de 1 a 3, un cornpte mitotiquc d'une raitose pour dix champa HPF. Les cellules soat disposécs en travecs d'épaisseut variable au sein d'un stroxa fibreux. I cxiste une composante minoxitaire de carcinome canalaire in situ d'architecture campacte (gradc uterimédiaite saxs uéarose) representant 30% de la susface tumorale. Abseace d'embole vasculite a distance. CONCLUSION Carcinome canalaire infiltrant de 9 mm de grand axe aans cmbole vasculairo. Composante ininorivaire de carcinome canalaire in sinu (grade intermcdiair darchitecture Fompact) repréeentanr 30%de la surface tumorale. Marge microscopique saine la plus étroite de 5 mm en dedana. 3010 Un ganglion sendinclc indemne en hietologic conventionnelle. $BR II fort (3+3+1) index mitouique faible. No/1. Iaaunohistochimie cn coura. L01/03/2012 0386695550 07.JAN.201216:15 RECUDE: 3356-052\"\"\"\n",
    "text_to_anonymize=remove_extra_spaces(text_to_anonymize)"
   ]
  },
  {
   "cell_type": "code",
   "execution_count": 17,
   "id": "c4c761cc-0b63-4339-9d7f-37b6ec238778",
   "metadata": {},
   "outputs": [],
   "source": [
    "nlp_spacy = spacy.load('fr_core_news_lg')"
   ]
  },
  {
   "cell_type": "code",
   "execution_count": 31,
   "id": "2bc36be2-c743-432b-9488-b4832a938996",
   "metadata": {},
   "outputs": [],
   "source": [
    "tokenizer_spacy = nlp_spacy.tokenizer"
   ]
  },
  {
   "cell_type": "code",
   "execution_count": 32,
   "id": "a8c2e977-b9ae-4198-b668-6be96a3edbc8",
   "metadata": {},
   "outputs": [
    {
     "name": "stdout",
     "output_type": "stream",
     "text": [
      "07.JAN.2012 16:42 0386284951 CLINIQUE CLAUDE BERNARD #5103P.001/003 Cacilo ADEMO Dr Annais BRILLIN-BORIS D OLANPOTOC-POMI Dr Sandra AGALI Pathologie Dr Brunetti PELLET wParis. Selaride medecins pathologistes conventionnes 89 bd de Stalin 927A0 MAT.AKOYF 559455880158652233 DR FETRET Christina 66RUEBUTTANT 75007PARIS Pxaman concexaanti MME gONZALEZ Gabriclle NomJF: Nei:01/11/195469as ossierT160285694 du20/11/2011 Noaéjour: opifutns CLINIQUE CLAUDE BERNARD (PMSI) COPIETELEMATIQUE D'UN COMPTE-RENDU J/TUMORECTOMIE SEIN.GAUCHEAYECEXAMENEXTEMPORANE III/IMMUNOHISTOCHIMIE 1/Un ganglion centimetrique est xepére par la sonde isotopique: les appositions per opératoires etPinclusion en paraffine fnontrent qu'il est indemne ca histologie conventionnelle. I1/La tumorectomie mesurant 5 x 3 x 1,5 cm est communiquée orientéc. Reponse extemporanée : foyer tumoral legerement excentre en dedans. Margee mncroacopiquct superieures A 5 mm. Apras inclusion en paraffine, le foyer mesure tur lame mm et comespond a une prolif&ration dc callules cubo cylindtiques a contouts imprecis a cytoplasme peu abondant.Les aoyaux claits ou hyperchrotnatiques pxésentent des variations de diamarre de 1 a 3, un cornpte mitotiquc d'une raitose pour dix champa HPF. Les cellules soat disposécs en travecs d'épaisseut variable au sein d'un stroxa fibreux. I cxiste une composante minoxitaire de carcinome canalaire in situ d'architecture campacte (gradc uterimédiaite saxs uéarose) representant 30% de la susface tumorale. Abseace d'embole vasculite a distance. CONCLUSION Carcinome canalaire infiltrant de 9 mm de grand axe aans cmbole vasculairo. Composante ininorivaire de carcinome canalaire in sinu (grade intermcdiair darchitecture Fompact) repréeentanr 30%de la surface tumorale. Marge microscopique saine la plus étroite de 5 mm en dedana. 3010 Un ganglion sendinclc indemne en hietologic conventionnelle. $BR II fort (3+3+1) index mitouique faible. No/1. Iaaunohistochimie cn coura. L01/03/2012 0386695550 07.JAN.201216:15 RECUDE: 3356-052\n"
     ]
    }
   ],
   "source": [
    "tokens_sp=tokenizer_spacy(text_to_anonymize)\n",
    "print(tokens_sp)"
   ]
  },
  {
   "cell_type": "code",
   "execution_count": 33,
   "id": "d5e7b9d3-35f8-4ac4-bd06-389209022901",
   "metadata": {},
   "outputs": [
    {
     "name": "stderr",
     "output_type": "stream",
     "text": [
      "/home/alejandra/.local/lib/python3.8/site-packages/transformers/tokenization_utils_base.py:1617: FutureWarning: `clean_up_tokenization_spaces` was not set. It will be set to `True` by default. This behavior will be deprecated in transformers v4.45, and will be then set to `False` by default. For more details check this issue: https://github.com/huggingface/transformers/issues/31884\n",
      "  warnings.warn(\n"
     ]
    }
   ],
   "source": [
    "# Create configuration containing engine name and models\n",
    "conf_file = \"transformers.yaml\"\n",
    "\n",
    "# Create NLP engine based on configuration\n",
    "provider = NlpEngineProvider(conf_file=conf_file)\n",
    "nlp_engine = provider.create_engine()\n",
    "\n",
    "# Pass the created NLP engine and supported_languages to the AnalyzerEngine\n",
    "analyzer = AnalyzerEngine(\n",
    "    nlp_engine=nlp_engine, \n",
    "    supported_languages=[\"fr\"]\n",
    ")\n",
    "\n",
    "analyzer_results = analyzer.analyze(text=text_to_anonymize, language='fr')\n",
    "\n"
   ]
  },
  {
   "cell_type": "code",
   "execution_count": 34,
   "id": "6b26ab63-76a2-418e-82a3-c32859b9a5a3",
   "metadata": {},
   "outputs": [],
   "source": [
    "from presidio_analyzer import AnalyzerEngine, PatternRecognizer,EntityRecognizer,RecognizerRegistry\n",
    "from presidio_analyzer import Pattern\n",
    "from typing import Optional\n",
    "from typing import List\n",
    "# https://github.com/microsoft/presidio/blob/main/presidio-analyzer/presidio_analyzer/predefined_recognizers/email_recognizer.py\n",
    "class AddressRecognizer(PatternRecognizer):\n",
    "    \"\"\"\n",
    "    Recognize address nb and route using regex and context.\n",
    "\n",
    "    :param patterns: List of patterns to be used by this recognizer\n",
    "    :param context: List of context words to increase confidence in detection\n",
    "    :param supported_language: Language this recognizer supports\n",
    "    :param supported_entity: The entity this recognizer can detect\n",
    "    \"\"\"\n",
    "    PATTERNS = [\n",
    "        Pattern(\n",
    "            \"addresses medium\",\n",
    "            r\"\\b(\\d{1,5})\\s?(bis|ter|quater|a|b)?\", # /b limite de mot\n",
    "            0.1,\n",
    "        ),\n",
    "    ]\n",
    "\n",
    "    # https://microsoft.github.io/presidio/tutorial/06_context/\n",
    "    # So this is working, but would catch any 5 digit string. This is why we set the score to 0.01. Let's use context words to increase score:\n",
    "    CONTEXT =  [\"rue\",\n",
    "                \"avenue\",\n",
    "                \"boulevard\",\n",
    "                \"place\",\n",
    "                \"chemin\",\n",
    "                \"route\",\n",
    "                \"impasse\",\n",
    "                \"allée\",\n",
    "                \"passage\", \n",
    "                \"quai\", \n",
    "                \"bd\" ]\n",
    "\n",
    "    def __init__(\n",
    "        self,\n",
    "        patterns: Optional[List[Pattern]] = None,\n",
    "        context: Optional[List[str]] = None,\n",
    "        supported_language: str = \"fr\",\n",
    "        supported_entity: str = \"ADDRESS_NEW\",\n",
    "    ):\n",
    "        patterns = patterns if patterns else self.PATTERNS\n",
    "        context = context if context else self.CONTEXT\n",
    "        super().__init__(\n",
    "            supported_entity=supported_entity,\n",
    "            patterns=patterns,\n",
    "            context=context,\n",
    "            supported_language=supported_language,\n",
    "        )\n",
    "\n",
    "class DoctorRecognizer(PatternRecognizer):\n",
    "    \"\"\"\n",
    "    Recognize doctors names using regex and context.\n",
    "\n",
    "    :param patterns: List of patterns to be used by this recognizer\n",
    "    :param context: List of context words to increase confidence in detection\n",
    "    :param supported_language: Language this recognizer supports\n",
    "    :param supported_entity: The entity this recognizer can detect\n",
    "    \"\"\"\n",
    "    PATTERNS = [\n",
    "        Pattern(\n",
    "            \"doc medium\",\n",
    "            r\"[A-Z][a-z]+,?\\s+(?:[A-Z][a-z]*\\.?\\s*)?[A-Z][a-z]+\", # /b limite de mot  \n",
    "            0.1,\n",
    "        ),\n",
    "    ]\n",
    "\n",
    "    CONTEXT =  [\n",
    "        \"Dr.\",\n",
    "        \"Dr\",\n",
    "        \"Docteur\",\n",
    "        \"Docteurs\",\n",
    "        \"Profeseur\",\n",
    "        \"dr\",\n",
    "        \"prof.\",\n",
    "        \"prof\",\n",
    "    ]\n",
    "\n",
    "    def __init__(\n",
    "        self,\n",
    "        patterns: Optional[List[Pattern]] = None,\n",
    "        context: Optional[List[str]] = None,\n",
    "        supported_language: str = \"fr\",\n",
    "        supported_entity: str = \"DOCTOR_NAME\",\n",
    "    ):\n",
    "        patterns = patterns if patterns else self.PATTERNS\n",
    "        context = context if context else self.CONTEXT\n",
    "        super().__init__(\n",
    "            supported_entity=supported_entity,\n",
    "            patterns=patterns,\n",
    "            context=context,\n",
    "            supported_language=supported_language,\n",
    "        )"
   ]
  },
  {
   "cell_type": "code",
   "execution_count": 35,
   "id": "7a1e09b5-85ac-40c6-853f-d1016fc57ae8",
   "metadata": {},
   "outputs": [],
   "source": [
    "# https://microsoft.github.io/presidio/analyzer/adding_recognizers/#simple-example\n",
    "def add_rulest(analyzer):\n",
    "    titles_list = [\n",
    "        \"Madame\",\n",
    "        \"Dr.\",\n",
    "        \"Dr\",\n",
    "        \"M.\",\n",
    "        \"Mme.\",\n",
    "        \"Mme\",\n",
    "        \"Docteur\",\n",
    "        \"Docteurs\",\n",
    "        \"Profeseur\",\n",
    "        \"mme.\",\n",
    "        \"mme\",\n",
    "        \"mlle.\",\n",
    "        \"monsieur\",\n",
    "        \"madame\",\n",
    "        \"mademoiselle\",\n",
    "        \"mr\",\n",
    "        \"mrs\",\n",
    "        \"dr\",\n",
    "        \"mlle\",\n",
    "        \"prof.\",\n",
    "        \"prof\",\n",
    "        \"patient\",\n",
    "        \"patiente\"\n",
    "    ]\n",
    "    \n",
    "    titles_recognizer = PatternRecognizer(supported_entity=\"TITLE\", deny_list=titles_list, supported_language=\"fr\")\n",
    "    # result = titles_recognizer.analyze(text_to_anonymize, entities=[\"TITLE\"])\n",
    "    # print(f\"Result:\\n {result}\")\n",
    "    # tt=EntityRecognizer(supported_entities=\"TITLE\", name=\"ee\", supported_language=\"fr\",deny_list=titles_list)\n",
    "    analyzer.registry.add_recognizer(DoctorRecognizer())\n",
    "    # analyzer.registry.add_recognizer(titles_recognizer)\n",
    "    analyzer.registry.add_recognizer(AddressRecognizer())\n",
    "\n",
    "    return analyzer\n",
    "    \n",
    "\n"
   ]
  },
  {
   "cell_type": "code",
   "execution_count": 36,
   "id": "a8cab580-f6d3-44b2-8689-48845a9424e1",
   "metadata": {},
   "outputs": [
    {
     "name": "stdout",
     "output_type": "stream",
     "text": [
      "type: PERSON, start: 125, end: 137, score: 0.9985368847846985 : Sandra AGALI\n",
      "type: PERSON, start: 276, end: 292, score: 0.9982286691665649 : FETRET Christina\n",
      "type: PERSON, start: 152, end: 167, score: 0.9980024099349976 : Brunetti PELLET\n",
      "type: PERSON, start: 443, end: 457, score: 0.9973115921020508 : CLAUDE BERNARD\n",
      "type: PERSON, start: 38, end: 52, score: 0.996290385723114 : CLAUDE BERNARD\n",
      "type: PERSON, start: 340, end: 358, score: 0.9958291053771973 : gONZALEZ Gabriclle\n",
      "type: PERSON, start: 84, end: 121, score: 0.9939813017845154 : Annais BRILLIN-BORIS D OLANPOTOC-POMI\n",
      "type: LOCATION, start: 293, end: 316, score: 0.9001020193099976 : 66RUEBUTTANT 75007PARIS\n",
      "type: LOCATION, start: 168, end: 174, score: 0.8926517367362976 : wParis\n",
      "type: LOCATION, start: 225, end: 253, score: 0.8730541467666626 : bd de Stalin 927A0 MAT.AKOYF\n",
      "type: PERSON, start: 68, end: 80, score: 0.8092713356018066 : Cacilo ADEMO\n",
      "type: LOCATION, start: 1712, end: 1719, score: 0.6620197892189026 : Fompact\n",
      "type: LOCATION, start: 176, end: 184, score: 0.6348187923431396 : Selaride\n",
      "type: LOCATION, start: 1888, end: 1894, score: 0.5449420809745789 : $BR II\n",
      "type: URL, start: 515, end: 522, score: 0.5 : SEIN.GA\n",
      "type: PHONE_NUMBER, start: 18, end: 28, score: 0.4 : 0386284951\n",
      "type: DATE_TIME, start: 407, end: 414, score: 0.2 : 11/2011\n",
      "type: DATE_TIME, start: 1970, end: 1977, score: 0.2 : 03/2012\n",
      "type: DATE_TIME, start: 370, end: 375, score: 0.1 : 01/11\n"
     ]
    }
   ],
   "source": [
    "# analyzer=add_rulest(analyzer)\n",
    "analyzer_results = analyzer.analyze(text=text_to_anonymize, language='fr')\n",
    "for e in analyzer_results: \n",
    "    print (e,\":\", text_to_anonymize[e.start:e.end])\n"
   ]
  },
  {
   "cell_type": "code",
   "execution_count": 37,
   "id": "17fe205e-4549-4a58-a23b-0275463b1546",
   "metadata": {},
   "outputs": [],
   "source": [
    "# Create faker function (note that it has to receive a value)\n",
    "dictionary_anonymized_people={}\n",
    "last_name=\"Gonzalez\"\n",
    "# TODO: when anonimyse person: keep the same fake name\n",
    "def fake_person(input_text):\n",
    "    if input_text in dictionary_anonymized_people:\n",
    "        return dictionary_anonymized_people[input_text]\n",
    "    elif input_text.find(last_name)>-1:\n",
    "        new_name=fake.name_female()\n",
    "        dictionary_anonymized_people[input_text]=new_name\n",
    "        return new_name\n",
    "    else:\n",
    "        new_name=fake.name()\n",
    "        dictionary_anonymized_people[input_text]=new_name\n",
    "        return new_name\n",
    "\n",
    "\n",
    "def fake_location(input_text):\n",
    "    \"\"\"\n",
    "    Parameters:\n",
    "        input_text (str): The input text from which to generate the fake location.\n",
    "    Returns:\n",
    "        str: The generated fake location name or address.\n",
    "    \"\"\"\n",
    "    fake = Faker(\"fr_FR\")\n",
    "    address_keywords =  [\"rue\",\n",
    "                \"avenue\",\n",
    "                \"boulevard\",\n",
    "                \"place\",\n",
    "                \"chemin\",\n",
    "                \"route\",\n",
    "                \"impasse\",\n",
    "                \"allée\",\n",
    "                \"passage\", \n",
    "                \"quai\", \n",
    "                \"bd\" ]\n",
    "    has_comma = \",\" in input_text\n",
    "    if has_comma:\n",
    "        # Assume it's an address with comma-separated elements\n",
    "        return \" {} \".format(fake.address())\n",
    "\n",
    "    input_lower = input_text.lower()\n",
    "\n",
    "    if any(keyword in input_lower for keyword in address_keywords):\n",
    "        # Generate a fake full address\n",
    "        return \" {} \".format(fake.address())\n",
    "    # Generate a fake Swiss city name\n",
    "    fake_city = fake.city()\n",
    "    # add_name(input_text, \"CITY\", fake_name)\n",
    "    return \" {} \".format(fake_city)"
   ]
  },
  {
   "cell_type": "code",
   "execution_count": 38,
   "id": "4ce3833a-6211-4293-94b6-f23704936ca0",
   "metadata": {},
   "outputs": [
    {
     "name": "stdout",
     "output_type": "stream",
     "text": [
      "text: text: 07.JAN.2012 16:42 03 63 14 25 74 CLINIQUE Madeleine Lopez-Briand #5103P.001/003 Aimée Mallet de Guillot Dr Lucy de Benoit Dr Marcel Barbe Pathologie Dr Robert Merle  Olivier .  Benoit-sur-Lamy  medecins pathologistes conventionnes 89  43, rue de Olivier\n",
      "37285 Andre-les-Bains  559455880158652233 DR Augustin-Rémy Perret  avenue Garcia\n",
      "53830 Guibert  Pxaman concexaanti MME René Bègue NomJF: Nei:1986-09-08/195469as ossierT160285694 du20/1985-05-23 Noaéjour: opifutns CLINIQUE Madeleine Lopez-Briand (PMSI) COPIETELEMATIQUE D'UN COMPTE-RENDU J/TUMORECTOMIE <URL>UCHEAYECEXAMENEXTEMPORANE III/IMMUNOHISTOCHIMIE 1/Un ganglion centimetrique est xepére par la sonde isotopique: les appositions per opératoires etPinclusion en paraffine fnontrent qu'il est indemne ca histologie conventionnelle. I1/La tumorectomie mesurant 5 x 3 x 1,5 cm est communiquée orientéc. Reponse extemporanée : foyer tumoral legerement excentre en dedans. Margee mncroacopiquct superieures A 5 mm. Apras inclusion en paraffine, le foyer mesure tur lame mm et comespond a une prolif&ration dc callules cubo cylindtiques a contouts imprecis a cytoplasme peu abondant.Les aoyaux claits ou hyperchrotnatiques pxésentent des variations de diamarre de 1 a 3, un cornpte mitotiquc d'une raitose pour dix champa HPF. Les cellules soat disposécs en travecs d'épaisseut variable au sein d'un stroxa fibreux. I cxiste une composante minoxitaire de carcinome canalaire in situ d'architecture campacte (gradc uterimédiaite saxs uéarose) representant 30% de la susface tumorale. Abseace d'embole vasculite a distance. CONCLUSION Carcinome canalaire infiltrant de 9 mm de grand axe aans cmbole vasculairo. Composante ininorivaire de carcinome canalaire in sinu (grade intermcdiair darchitecture  Lacroix ) repréeentanr 30%de la surface tumorale. Marge microscopique saine la plus étroite de 5 mm en dedana. 3010 Un ganglion sendinclc indemne en hietologic conventionnelle.  Wagner  fort (3+3+1) index mitouique faible. No/1. Iaaunohistochimie cn coura. L01/2005-11-04 0386695550 07.JAN.201216:15 RECUDE: 3356-052\n",
      "items:\n",
      "[\n",
      "    {'start': 2013, 'end': 2023, 'entity_type': 'DATE_TIME', 'text': '2005-11-04', 'operator': 'custom'},\n",
      "    {'start': 1929, 'end': 1937, 'entity_type': 'LOCATION', 'text': ' Wagner ', 'operator': 'custom'},\n",
      "    {'start': 1751, 'end': 1760, 'entity_type': 'LOCATION', 'text': ' Lacroix ', 'operator': 'custom'},\n",
      "    {'start': 556, 'end': 561, 'entity_type': 'URL', 'text': '<URL>', 'operator': 'replace'},\n",
      "    {'start': 476, 'end': 498, 'entity_type': 'PERSON', 'text': 'Madeleine Lopez-Briand', 'operator': 'custom'},\n",
      "    {'start': 437, 'end': 447, 'entity_type': 'DATE_TIME', 'text': '1985-05-23', 'operator': 'custom'},\n",
      "    {'start': 395, 'end': 405, 'entity_type': 'DATE_TIME', 'text': '1986-09-08', 'operator': 'custom'},\n",
      "    {'start': 373, 'end': 383, 'entity_type': 'PERSON', 'text': 'René Bègue', 'operator': 'custom'},\n",
      "    {'start': 320, 'end': 349, 'entity_type': 'LOCATION', 'text': ' avenue Garcia\\n53830 Guibert ', 'operator': 'custom'},\n",
      "    {'start': 299, 'end': 319, 'entity_type': 'PERSON', 'text': 'Augustin-Rémy Perret', 'operator': 'custom'},\n",
      "    {'start': 234, 'end': 276, 'entity_type': 'LOCATION', 'text': ' 43, rue de Olivier\\n37285 Andre-les-Bains ', 'operator': 'custom'},\n",
      "    {'start': 176, 'end': 193, 'entity_type': 'LOCATION', 'text': ' Benoit-sur-Lamy ', 'operator': 'custom'},\n",
      "    {'start': 165, 'end': 174, 'entity_type': 'LOCATION', 'text': ' Olivier ', 'operator': 'custom'},\n",
      "    {'start': 152, 'end': 164, 'entity_type': 'PERSON', 'text': 'Robert Merle', 'operator': 'custom'},\n",
      "    {'start': 125, 'end': 137, 'entity_type': 'PERSON', 'text': 'Marcel Barbe', 'operator': 'custom'},\n",
      "    {'start': 107, 'end': 121, 'entity_type': 'PERSON', 'text': 'Lucy de Benoit', 'operator': 'custom'},\n",
      "    {'start': 80, 'end': 103, 'entity_type': 'PERSON', 'text': 'Aimée Mallet de Guillot', 'operator': 'custom'},\n",
      "    {'start': 42, 'end': 64, 'entity_type': 'PERSON', 'text': 'Madeleine Lopez-Briand', 'operator': 'custom'},\n",
      "    {'start': 18, 'end': 32, 'entity_type': 'PHONE_NUMBER', 'text': '03 63 14 25 74', 'operator': 'custom'}\n",
      "]\n",
      "\n"
     ]
    }
   ],
   "source": [
    "# Analyzer output\n",
    "fake = Faker(locale=['fr_FR'])\n",
    "anonymizer = AnonymizerEngine()\n",
    "anonymized_text = anonymizer.anonymize(text=text_to_anonymize,\n",
    "            analyzer_results=analyzer_results,\n",
    "            operators={\"DEFAULT\": OperatorConfig(\"replace\", {\"new_value\": \"<ANONYMIZED>\"}), \n",
    "            # \"ADDRESS_NUMBER\": OperatorConfig(\"custom\", {\"lambda\": lambda x: fake.address()}),\n",
    "            \"ADDRESS_NUMBER\": OperatorConfig(\"replace\", {\"new_value\": \"<ADDRESS_NUMBER>\"}), \n",
    "            # \"PERSON\": OperatorConfig(\"custom\", {\"lambda\": lambda x: fake.name()}),\n",
    "            \"PERSON\": OperatorConfig(\"custom\", {\"lambda\": fake_person}),\n",
    "            # \"LOCATION\": OperatorConfig(\"replace\", {\"new_value\": \"<LOCATION>\"}), \n",
    "            \"URL\": OperatorConfig(\"replace\", {\"new_value\": \"<URL>\"}), \n",
    "            \"LOCATION\": OperatorConfig(\"custom\", {\"lambda\": fake_location}), \n",
    "            \"DATE_TIME\": OperatorConfig(\"custom\",{\"lambda\": lambda x: fake.date()}),\n",
    "           \"EMAIL_ADDRESS\": OperatorConfig(\"custom\", {\"lambda\": lambda x: fake.email()}),\n",
    "           \"PHONE_NUMBER\": OperatorConfig(\"custom\", {\"lambda\": lambda x: fake.phone_number()}),\n",
    "            \"TITLE\": OperatorConfig(\"redact\", {})}\n",
    ")\n",
    "print(f\"text: {anonymized_text}\")\n",
    "\n"
   ]
  },
  {
   "cell_type": "code",
   "execution_count": 26,
   "id": "63b6a93f-aac6-4e4f-b301-5ce59f3e4997",
   "metadata": {},
   "outputs": [
    {
     "name": "stdout",
     "output_type": "stream",
     "text": [
      "07.JAN.2012 16:42 03 66 87 55 19 CLINIQUE Zacharie Legendre #5103P.001/003 Grégoire Tanguy Dr Michèle-Juliette Leleu Dr Timothée Fernandes du Maillet Pathologie Dr Céline Étienne de la Lemaître  Saint MatthieuBourg .  Petitjeannec  medecins pathologistes conventionnes 89  4, rue de Boyer\n",
      "97265 Laine-la-Forêt  559455880158652233 DR Benoît du Duhamel  17, rue Margot Boucher\n",
      "80825 Rocher  Pxaman concexaanti MME Benoît Guillet NomJF: Nei:2001-03-03/195469as ossierT160285694 du20/2008-04-01 Noaéjour: opifutns CLINIQUE Zacharie Legendre (PMSI) COPIETELEMATIQUE D'UN COMPTE-RENDU J/TUMORECTOMIE <URL>UCHEAYECEXAMENEXTEMPORANE III/IMMUNOHISTOCHIMIE 1/Un ganglion centimetrique est xepére par la sonde isotopique: les appositions per opératoires etPinclusion en paraffine fnontrent qu'il est indemne ca histologie conventionnelle. I1/La tumorectomie mesurant 5 x 3 x 1,5 cm est communiquée orientéc. Reponse extemporanée : foyer tumoral legerement excentre en dedans. Margee mncroacopiquct superieures A 5 mm. Apras inclusion en paraffine, le foyer mesure tur lame mm et comespond a une prolif&ration dc callules cubo cylindtiques a contouts imprecis a cytoplasme peu abondant.Les aoyaux claits ou hyperchrotnatiques pxésentent des variations de diamarre de 1 a 3, un cornpte mitotiquc d'une raitose pour dix champa HPF. Les cellules soat disposécs en travecs d'épaisseut variable au sein d'un stroxa fibreux. I cxiste une composante minoxitaire de carcinome canalaire in situ d'architecture campacte (gradc uterimédiaite saxs uéarose) representant 30% de la susface tumorale. Abseace d'embole vasculite a distance. CONCLUSION Carcinome canalaire infiltrant de 9 mm de grand axe aans cmbole vasculairo. Composante ininorivaire de carcinome canalaire in sinu (grade intermcdiair darchitecture  Masson ) repréeentanr 30%de la surface tumorale. Marge microscopique saine la plus étroite de 5 mm en dedana. 3010 Un ganglion sendinclc indemne en hietologic conventionnelle.  Gay  fort (3+3+1) index mitouique faible. No/1. Iaaunohistochimie cn coura. L01/2014-01-02 0386695550 07.JAN.201216:15 RECUDE: 3356-052\n"
     ]
    }
   ],
   "source": [
    "print(anonymized_text.text)"
   ]
  },
  {
   "cell_type": "code",
   "execution_count": 27,
   "id": "e3572adc-fc34-4cb3-bf99-9bd2d556186a",
   "metadata": {},
   "outputs": [],
   "source": [
    "# https://github.com/microsoft/presidio/issues/1083\n",
    "# from presidio_analyzer import AnalyzerEngine, RecognizerRegistry\n",
    "# from transformers_recognizer import TransformersRecognizer\n",
    "# import spacy\n",
    "# from presidio_analyzer.nlp_engine import NlpEngineProvider\n",
    "\n",
    "# FR_MODEL_CONF = {'PRESIDIO_SUPPORTED_ENTITIES': ['LOCATION', 'PERSON', 'ORGANIZATION', 'DATE_TIME', 'NRP'],\n",
    "#                'DEFAULT_MODEL_PATH': 'Jean-Baptiste/camembert-ner-with-dates',\n",
    "#                'DATASET_TO_PRESIDIO_MAPPING': {'DATE': 'DATE_TIME', 'MISC': 'NRP', 'PER': 'PERSON', 'ORG': 'ORGANIZATION', 'LOC': 'LOCATION'},\n",
    "#                \"MODEL_TO_PRESIDIO_MAPPING\": {'DATE': 'DATE_TIME', 'MISC': 'NRP', 'PER': 'PERSON', 'ORG': 'ORGANIZATION', 'LOC': 'LOCATION'},\n",
    "#                \"CHUNK_OVERLAP_SIZE\": 40,\n",
    "#                \"CHUNK_SIZE\": 600,\n",
    "#                \"ID_SCORE_MULTIPLIER\": 0.4,\n",
    "#                \"ID_ENTITY_NAME\": \"ID\"}\n",
    "\n",
    "# registry = RecognizerRegistry()\n",
    "# registry.load_predefined_recognizers()\n",
    "\n",
    "# if not spacy.util.is_package(\"fr_core_news_sm\"):\n",
    "#    spacy.cli.download(\"fr_core_news_sm\")\n",
    "\n",
    "\n",
    "# supported_entities = FR_MODEL_CONF.get(\n",
    "#        \"PRESIDIO_SUPPORTED_ENTITIES\")\n",
    "\n",
    "# model = \"Jean-Baptiste/camembert-ner-with-dates\"\n",
    "# transformers_recognizerr = TransformersRecognizer(model_path=model, supported_entities= supported_entities)\n",
    "# transformers_recognizerr.load_transformer(**FR_MODEL_CONF)\n",
    "\n",
    "# if not spacy.util.is_package(\"fr_core_news_sm\"):\n",
    "#    spacy.cli.download(\"fr_core_news_sm\")\n",
    "\n",
    "# registry.add_recognizer(transformers_recognizerr)\n",
    "# registry.remove_recognizer(\"SpacyRecognizer\")\n",
    "\n",
    "\n",
    "# nlp_configuration = {\n",
    "#    \"nlp_engine_name\": \"spacy\",\n",
    "#    \"models\": [{\"lang_code\": \"fr\", \"model_name\":\"fr_core_news_sm\"}],\n",
    "# }\n",
    "\n",
    "# nlp_engine = NlpEngineProvider(nlp_configuration=nlp_configuration).create_engine()\n",
    "\n",
    "# analyzer = AnalyzerEngine(registry=registry, nlp_engine=nlp_engine)\n",
    "\n",
    "# results = analyzer.analyze(\n",
    "# text=\"Je m'appelle jean-baptiste et j'habite à montréal depuis fevr 2012\",\n",
    "# language=\"fr\",\n",
    "# entities = ['LOCATION', 'PERSON', 'ORGANIZATION', 'DATE_TIME', 'NRP'],\n",
    "# return_decision_process=True,\n",
    "# )\n",
    "# for result in results:\n",
    "#    print(result)\n",
    "#    print(result.analysis_explanation)"
   ]
  },
  {
   "cell_type": "code",
   "execution_count": null,
   "id": "c36fbd50-9cb0-4d93-a46c-d901ff04398e",
   "metadata": {},
   "outputs": [],
   "source": []
  }
 ],
 "metadata": {
  "kernelspec": {
   "display_name": "myIAenv",
   "language": "python",
   "name": "myiaenv"
  },
  "language_info": {
   "codemirror_mode": {
    "name": "ipython",
    "version": 3
   },
   "file_extension": ".py",
   "mimetype": "text/x-python",
   "name": "python",
   "nbconvert_exporter": "python",
   "pygments_lexer": "ipython3",
   "version": "3.8.10"
  }
 },
 "nbformat": 4,
 "nbformat_minor": 5
}
